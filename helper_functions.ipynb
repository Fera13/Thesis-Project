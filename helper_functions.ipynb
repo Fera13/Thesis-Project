{
 "cells": [
  {
   "cell_type": "code",
   "execution_count": 1,
   "metadata": {},
   "outputs": [],
   "source": [
    "%run graphical_functions.ipynb"
   ]
  },
  {
   "cell_type": "markdown",
   "metadata": {},
   "source": [
    "### Preparing functions to load and save distances"
   ]
  },
  {
   "cell_type": "code",
   "execution_count": null,
   "metadata": {},
   "outputs": [],
   "source": [
    "def load_distance_cache():\n",
    "    \"\"\"\n",
    "    Loads the distance cache from a JSON file into a dictionary. Converts string keys\n",
    "    back to tuple keys if necessary.\n",
    "\n",
    "    Returns:\n",
    "        dict: A dictionary with keys as tuples representing city pairs and values as the\n",
    "        distances between these cities. Returns an empty dictionary if the file is not\n",
    "        found or if there is a decoding error.\n",
    "    \"\"\"\n",
    "    try:\n",
    "        with open(\"distance_cache.json\", \"r\") as file:\n",
    "            loaded_cache = json.load(file)\n",
    "            # Convert string keys back to tuples if your logic requires tuple keys\n",
    "            return {tuple(key.split(\",\")): value for key, value in loaded_cache.items()}\n",
    "    except (FileNotFoundError, json.JSONDecodeError):\n",
    "        return {}  # Return an empty dictionary if there is no file or decoding fails\n",
    "\n",
    "\n",
    "def save_distance_cache(cache):\n",
    "    \"\"\"\n",
    "    Saves the given cache dictionary to a JSON file. Converts tuple keys in the dictionary\n",
    "    to a string format suitable for JSON storage.\n",
    "\n",
    "    Args:\n",
    "        cache (dict): The dictionary with tuple keys and distance values to save.\n",
    "    \"\"\"\n",
    "    with open(\"distance_cache.json\", \"w\") as file:\n",
    "        # Convert tuple keys to a string format\n",
    "        formatted_cache = {\",\".join(key): value for key, value in cache.items()}\n",
    "        json.dump(formatted_cache, file, indent=4)"
   ]
  },
  {
   "cell_type": "markdown",
   "metadata": {},
   "source": [
    "### Retrieving the cities names and coordinates from a dataset"
   ]
  },
  {
   "cell_type": "code",
   "execution_count": null,
   "metadata": {},
   "outputs": [],
   "source": [
    "def read_cities_csv_to_dict(csv_file_path):\n",
    "    \"\"\"\n",
    "    Reads a CSV file containing city information and returns a dictionary\n",
    "    with city names as keys and their coordinates (latitude and longitude) as values.\n",
    "\n",
    "    Args:\n",
    "    csv_file_path: The file path to the CSV file containing the city data.\n",
    "\n",
    "    Returns:\n",
    "    A dictionary with city names as keys and (latitude, longitude) tuples as values.\n",
    "    \"\"\"\n",
    "    # Load the CSV file into a DataFrame\n",
    "    df = pd.read_csv(csv_file_path, delimiter=\",\")\n",
    "\n",
    "    duplicates = df[df.duplicated(keep=False)]\n",
    "    if duplicates.empty:\n",
    "        print(\"No duplicates found.\")\n",
    "    else:\n",
    "        print(\"Duplicates found:\", len(duplicates))\n",
    "        df.drop_duplicates(keep=\"first\", inplace=True)\n",
    "\n",
    "    # Create a dictionary from the DataFrame\n",
    "    city_coordinates = {\n",
    "        row[\"city\"]: (row[\"lat\"], row[\"lng\"])\n",
    "        for index, row in df.iterrows()\n",
    "        if row[\"country\"] == \"Sweden\"\n",
    "    }\n",
    "    print(city_coordinates)\n",
    "\n",
    "    return city_coordinates"
   ]
  },
  {
   "cell_type": "markdown",
   "metadata": {},
   "source": [
    "### Initiating needed values"
   ]
  },
  {
   "cell_type": "code",
   "execution_count": 2,
   "metadata": {},
   "outputs": [],
   "source": [
    "current_file_directory = os.path.dirname(os.path.abspath(__file__))\n",
    "dotenv_path = os.path.join(current_file_directory, '.env')\n",
    "# Load environment variables from .env file\n",
    "load_dotenv(dotenv_path)\n",
    "\n",
    "# Access the environment variable\n",
    "my_api_key = os.getenv(\"GOOGLE_KEY\")\n",
    "\n",
    "gmaps = googlemaps.Client(key=my_api_key)\n",
    "\n",
    "# Get the distances file as soon as we load\n",
    "distance_cache = load_distance_cache()\n",
    "\n",
    "csv_file_path = \"./datasets/Sweden_cities.csv\"\n",
    "cities_coordinates = read_cities_csv_to_dict(csv_file_path)"
   ]
  },
  {
   "cell_type": "markdown",
   "metadata": {},
   "source": [
    "### Function to get the distances between the cities of a specific instance"
   ]
  },
  {
   "cell_type": "code",
   "execution_count": null,
   "metadata": {},
   "outputs": [],
   "source": [
    "def fetch_distances(selected_cities):\n",
    "    \"\"\"\n",
    "    Fetches the driving distances between each pair of selected cities using Google Maps API.\n",
    "    Updates and uses a local cache to minimize API calls.\n",
    "\n",
    "    Args:\n",
    "        selected_cities (list): A list of selected city names.\n",
    "\n",
    "    Returns:\n",
    "        dict: A nested dictionary where each key is a city name from the selected cities and each value is another dictionary.\n",
    "            The nested dictionary's keys are the other cities in the list, and the values are the distances to these cities in meters.\n",
    "    \"\"\"\n",
    "    print(\"started fetch_distances\")\n",
    "    distances = {}\n",
    "    cache_updated = False\n",
    "    for origin in selected_cities:\n",
    "        distances[origin] = {}\n",
    "        for destination in selected_cities:\n",
    "            if origin == destination:\n",
    "                distances[origin][destination] = 0\n",
    "            else:\n",
    "                # Sort and convert to string to use as a JSON-compatible key\n",
    "                cache_key = tuple(sorted([origin, destination]))\n",
    "                str_cache_key = \",\".join(cache_key)\n",
    "                if cache_key in distance_cache:\n",
    "                    distances[origin][destination] = distance_cache[cache_key]\n",
    "                    print(\"Found cache\")\n",
    "                else:\n",
    "                    try:\n",
    "                        print(\"started API call\")\n",
    "                        result = gmaps.distance_matrix(\n",
    "                            origins=[cities_coordinates[origin]],\n",
    "                            destinations=[cities_coordinates[destination]],\n",
    "                            mode=\"driving\",\n",
    "                        )\n",
    "                        distance = result[\"rows\"][0][\"elements\"][0][\"distance\"][\"value\"]\n",
    "                        distances[origin][destination] = distance\n",
    "                        distance_cache[cache_key] = distance  # Store using tuple\n",
    "                        cache_updated = True\n",
    "                        print(\"finished API call\")\n",
    "                    except Exception as e:\n",
    "                        print(\n",
    "                            f\"Error fetching distance between {origin} and {destination}: {e}\"\n",
    "                        )\n",
    "                        distances[origin][destination] = float(\n",
    "                            \"inf\"\n",
    "                        )  # Assign a high cost in case of error\n",
    "    if cache_updated:\n",
    "        save_distance_cache(distance_cache)\n",
    "    print(\"finished fetch_distances\")\n",
    "    return distances"
   ]
  },
  {
   "cell_type": "markdown",
   "metadata": {},
   "source": [
    "### Function to get the cost of any solution"
   ]
  },
  {
   "cell_type": "code",
   "execution_count": null,
   "metadata": {},
   "outputs": [],
   "source": [
    "def calculate_cost(solution, distances):\n",
    "    \"\"\"\n",
    "    Calculates the total travel cost of a given solution based on the distances between cities.\n",
    "\n",
    "    Args:\n",
    "        solution (list): An ordered list of city names representing the tour.\n",
    "        distances (dict): A nested dictionary of distances between each pair of cities.\n",
    "\n",
    "    Returns:\n",
    "        float: The total cost of the solution in kilometers.\n",
    "    \"\"\"\n",
    "    # Calculate the total distance in meters first\n",
    "    total_distance_meters = (\n",
    "        sum(distances[solution[i]][solution[i + 1]] for i in range(len(solution) - 1))\n",
    "        + distances[solution[-1]][solution[0]]\n",
    "    )\n",
    "    # Convert the total distance to kilometers\n",
    "    total_distance_km = total_distance_meters / 1000.0\n",
    "    return total_distance_km"
   ]
  }
 ],
 "metadata": {
  "kernelspec": {
   "display_name": "MLenv",
   "language": "python",
   "name": "python3"
  },
  "language_info": {
   "codemirror_mode": {
    "name": "ipython",
    "version": 3
   },
   "file_extension": ".py",
   "mimetype": "text/x-python",
   "name": "python",
   "nbconvert_exporter": "python",
   "pygments_lexer": "ipython3",
   "version": "3.7.16"
  }
 },
 "nbformat": 4,
 "nbformat_minor": 2
}
